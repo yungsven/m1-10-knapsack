{
 "cells": [
  {
   "cell_type": "markdown",
   "metadata": {},
   "source": [
    "# Knapsack Problem\n",
    "\n",
    "* imagine you are a thief and you break in a bank vault\n",
    "* there are some items in the vault\n",
    "* each item has a mass and a value on (black) market\n",
    "* you have only one knapsack with limited capacity\n",
    "* if you take more stuff than your knapsack capacity, it will break, you'll loose all items and get shot\n",
    "\n",
    "What is the maximum profit you can get? \n",
    "\n",
    "![Knapsack Problem](https://upload.wikimedia.org/wikipedia/commons/thumb/f/fd/Knapsack.svg/486px-Knapsack.svg.png)\n",
    "\n",
    "\n",
    "## Definition\n",
    "Given a set of items, each with a mass and a value, determine the number of each item to include in a collection so that the total weight is less than or equal to a given limit and the total value is as large as possible.\n",
    "\n",
    "There are a lot of variations on this problem, let's start with the simplest one:\n",
    "   \n",
    "## 0-1 Knapsack\n",
    "\n",
    "Given a set of $n$ items numbered from 0 up to $n-1$, each with a mass $m_i$ and a value $v_i$, along with a maximum mass capacity $M$.\n",
    "\n",
    "For the **0-1 Knapsack** The rules are:\n",
    "   * only one item of a kind\n",
    "   * take an item or leave it (no fractions of items)\n",
    "\n",
    "Maximize\n",
    "```python\n",
    "score = sum([value[i] * is_taken[i] for i in range(n)])  # total value in knapsack\n",
    "```\n",
    "\n",
    "with\n",
    "```python \n",
    "sum([m[i]*x[i] for i in range(n)]) <= M  # items fit in backpack\n",
    "and\n",
    "all([k in [0, 1] for k in x])  # take (1) or leave (0) item, cannot break it\n",
    "```\n",
    "m = weights\n",
    "x = is_taken\n",
    "M = bag_size\n",
    "\n",
    "### Example\n"
   ]
  },
  {
   "cell_type": "code",
   "execution_count": null,
   "metadata": {},
   "outputs": [],
   "source": [
    "# class notes\n",
    "value = []"
   ]
  },
  {
   "cell_type": "code",
   "execution_count": 1,
   "metadata": {},
   "outputs": [],
   "source": [
    "bag_size = 7\n",
    "weights = [2, 3, 4, 5]\n",
    "values = [3, 4, 5, 5]\n",
    "# score = ?\n",
    "\n",
    "is_taken = [0,1,1,0]"
   ]
  },
  {
   "cell_type": "markdown",
   "metadata": {},
   "source": [
    "### Solution:\n",
    "\n",
    "```python\n",
    "score = 9  # values[1] + values[2]\n",
    "\n",
    "weights[1] + weights[2] <= bag_size  # 7\n",
    "\n",
    "picks = [0, 1, 1, 0]  # pick second and third item \n",
    "```\n",
    "\n",
    "# Greedy Algorithms\n",
    "\n",
    "\n",
    "A **Greedy Algorithms** is a simple way to design algorithms: pick the most attractive candidate *right now* at every step.\n",
    "\n",
    "For the simple knapsack we have:\n",
    "\n",
    "* Take the value per weight $V / M$\n",
    "* Sort in descending order\n",
    "* Pick items from top until the bag is full"
   ]
  },
  {
   "cell_type": "code",
   "execution_count": 2,
   "metadata": {},
   "outputs": [
    {
     "data": {
      "text/plain": [
       "[1.5, 1.3333333333333333, 1.25, 1.0]"
      ]
     },
     "execution_count": 2,
     "metadata": {},
     "output_type": "execute_result"
    }
   ],
   "source": [
    "[values[i]/weights[i] for i in range(len(weights))]  # it's already sorted in this example"
   ]
  },
  {
   "cell_type": "markdown",
   "metadata": {},
   "source": [
    "However in this example when we pick the first item we get $score = 8$. This approach doesn't work!\n",
    "\n",
    "# NP-Complete and NP-Hard problems\n",
    "\n",
    "In fact, there is **no known algorithm** that can solve the knapsack problem quickly.\n",
    "\n",
    "Here \"quickly\" has a mathematical meaning. An algorithm is called \"fast\" if it's:\n",
    "\n",
    "$$O(f(n)) <= poly(n)$$\n",
    "\n",
    "So $f(n)$ can be expressed as a polynomial. For example $f(n) = e^n$ is **not fast** but $f(n) = n^3$ is \"fast\". Note that in real life, algorithms taking $O(n^10)$ time would be very slow but it's still blazingly fast compared to $e^x$\n",
    "\n",
    "We can visualize this with a graphing calculator. \n",
    "\n",
    "This touches one of the great unsolved problems in computer science, the **P vs. NP problem**. A problem is in **P** if we can find the solution and verify the solution quickly. A problem is in **NP** if  you can check the solution quickly but not find the solution quickly.\n",
    "\n",
    "Almost everyone [assumes that $ P \\neq NP$](https://www.scottaaronson.com/blog/?p=1720). If $P=NP$ was true a lot of systems in the modern world would break -- for one all computer security is based on various forms of encryption which assume that factoring a prime number is slow but checking the solution is fast.\n",
    "\n",
    "Mathematically proving it is one of the famous [millenium prize problems](https://en.wikipedia.org/wiki/Millennium_Prize_Problems) which would net you \\$1,000,000 and historical fame on a level similar to Einstein or Newton. Don't hold your breath on it, though, many of the world's smartest mathematicians have tried it in the last 70 years and they [aren't close to a solution](https://www.scottaaronson.com/papers/pnp.pdf)\n",
    "\n",
    "# Heuristics and tradeoffs\n",
    "\n",
    "In the face of an $NP$ problem, we have to choose:\n",
    "\n",
    "- Accept less than perfect but fast answers\n",
    "\n",
    "- Make it fast enough for reasonable sizes of $n$\n",
    "\n",
    "- Optimize an answer to your specific problem (instead of the generic problem)\n",
    "\n",
    "## Recursive/divide-and-conquer Solution\n",
    "\n",
    "Here is an approach that's faster than the greedy approach\n",
    "\n",
    "* Consider all $2^n$ subsets of items\n",
    "* Calculate total mass for each subset\n",
    "* Take only the subsets where total $mass <= bagsize$\n",
    "* Pick the optimal subset with maximum value\n",
    "\n",
    "#### Optimal Substructure\n",
    "In optimal substructure (subset), every item can be either included or not included.\n",
    "\n",
    "So the maximum value of $n$ items is the better of:\n",
    "* Item $i$ not included\n",
    "    * Maximum of $n - 1$ items\n",
    "    * $M$ kg available capacity in backpack\n",
    "* Item $i$ included\n",
    "    * value of item $i$ + maximum of $n - 1$ items\n",
    "    * $M - mass$ of item $i$ capacity in backpack\n",
    "\n",
    "If the item $i$ cannot be included (mass greater than capacity), then we have just the first case."
   ]
  },
  {
   "cell_type": "code",
   "execution_count": 6,
   "metadata": {},
   "outputs": [
    {
     "data": {
      "text/plain": [
       "9"
      ]
     },
     "execution_count": 6,
     "metadata": {},
     "output_type": "execute_result"
    }
   ],
   "source": [
    "#My version \n",
    "def knapsack_rec(bag_size, weights, values, n_items):\n",
    "    #base case: nothing left to do \n",
    "    if n_items == 0 or bag_size == 0:\n",
    "        return 0\n",
    "    #base case2: last item doesn't fit\n",
    "    if weights[n_items - 1] > bag_size:\n",
    "        #can't includ them \n",
    "        return knapsack_rec(bag_size, weights, values, n_items - 1)\n",
    "    #otherwise return max of recursion solution\n",
    "    \n",
    "    #value of items not included\n",
    "    left_side = knapsack_rec(bag_size, weights, values, n_items - 1)\n",
    "    #value of items included\n",
    "    right_side = (\n",
    "        values[n_items - 1]\n",
    "        + knapsack_rec(bag_size - weights[n_items - 1], weights,\n",
    "                        values, n_items - 1)\n",
    "    )\n",
    "    return max(left_side, right_side)\n",
    "        \n",
    "bag_size = 7\n",
    "weights = [2,3,4,5]\n",
    "values = [3,4,5,5]\n",
    "\n",
    "knapsack_rec(bag_size, weights, values, len(weights))\n",
    "\n",
    "#brute force"
   ]
  },
  {
   "cell_type": "code",
   "execution_count": 7,
   "metadata": {},
   "outputs": [
    {
     "data": {
      "text/plain": [
       "9"
      ]
     },
     "execution_count": 7,
     "metadata": {},
     "output_type": "execute_result"
    }
   ],
   "source": [
    "def knapsack_recursive(bag_size, weights, values, n_items):\n",
    "    if n_items == 0 or bag_size == 0:  # base case\n",
    "        return 0\n",
    "    # if last item doesn't fit\n",
    "    if weights[n_items-1] > bag_size:\n",
    "        # Item can't be included\n",
    "        return knapsack_recursive(bag_size, weights, values, n_items-1)\n",
    "    # Otherwise, return the max of recursive solutions\n",
    "    # Value of item not included\n",
    "    left_side = knapsack_recursive(bag_size, weights, values, n_items-1)\n",
    "    # Value of item being included\n",
    "    right_side = (\n",
    "        values[n_items-1] \n",
    "        + knapsack_recursive(bag_size - weights[n_items-1],\n",
    "                             weights, values, n_items-1)\n",
    "    )\n",
    "    return max(left_side, right_side)\n",
    "\n",
    "bag_size = 7\n",
    "weights = [2, 3, 4, 5]\n",
    "values = [3, 4, 5, 5]\n",
    "\n",
    "knapsack_recursive(bag_size, weights, values, len(weights))"
   ]
  },
  {
   "cell_type": "code",
   "execution_count": null,
   "metadata": {},
   "outputs": [],
   "source": []
  },
  {
   "cell_type": "code",
   "execution_count": null,
   "metadata": {},
   "outputs": [],
   "source": [
    "def knapsack_recursive(bag_size, weights, values, n_items):\n",
    "    if n_items == 0 or bag_size == 0:  # base case\n",
    "        return 0\n",
    "    if weights[n_items-1] > bag_size:\n",
    "        return knapsack_recursive(bag_size, weights, values, n_items-1)\n",
    "    left_side = knapsack_recursive(bag_size, weights, values, n_items-1)\n",
    "    right_side = (\n",
    "        values[n_items-1] \n",
    "        + knapsack_recursive(bag_size - weights[n_items-1],\n",
    "                             weights, values, n_items-1)\n",
    "    )\n",
    "    return max(left_side, right_side)\n",
    "\n",
    "bag_size = 7\n",
    "weights = [2, 3, 4, 5]\n",
    "values = [3, 4, 5, 5]\n",
    "\n",
    "knapsack_recursive(bag_size, weights, values, len(weights))"
   ]
  }
 ],
 "metadata": {
  "kernelspec": {
   "display_name": "Python 3",
   "language": "python",
   "name": "python3"
  },
  "language_info": {
   "codemirror_mode": {
    "name": "ipython",
    "version": 3
   },
   "file_extension": ".py",
   "mimetype": "text/x-python",
   "name": "python",
   "nbconvert_exporter": "python",
   "pygments_lexer": "ipython3",
   "version": "3.8.3"
  }
 },
 "nbformat": 4,
 "nbformat_minor": 1
}
